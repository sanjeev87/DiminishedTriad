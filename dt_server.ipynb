{
 "cells": [
  {
   "cell_type": "code",
   "execution_count": 1,
   "metadata": {
    "collapsed": false,
    "scrolled": true
   },
   "outputs": [
    {
     "name": "stderr",
     "output_type": "stream",
     "text": [
      "ERROR:spyne.application:global name 'null' is not defined\n",
      "Traceback (most recent call last):\n",
      "  File \"/Users/srao/anaconda/lib/python2.7/site-packages/spyne-2.11.0-py2.7.egg/spyne/application.py\", line 144, in process_request\n",
      "    ctx.out_object = self.call_wrapper(ctx)\n",
      "  File \"/Users/srao/anaconda/lib/python2.7/site-packages/spyne-2.11.0-py2.7.egg/spyne/application.py\", line 199, in call_wrapper\n",
      "    retval = ctx.descriptor.service_class.call_wrapper(ctx)\n",
      "  File \"/Users/srao/anaconda/lib/python2.7/site-packages/spyne-2.11.0-py2.7.egg/spyne/service.py\", line 207, in call_wrapper\n",
      "    return ctx.function(*ctx.in_object)\n",
      "  File \"<ipython-input-1-c05f6b9cb2bc>\", line 45, in set\n",
      "    return null\n",
      "NameError: global name 'null' is not defined\n"
     ]
    },
    {
     "name": "stdout",
     "output_type": "stream",
     "text": [
      "keys :  [17L, 91L, 22L]\n",
      "getNextNBackends for key :  foo  returning : { ['127.0.0.1:30001', '127.0.0.1:30003'] }\n",
      "lenght of backs :  2\n",
      "backs :  ['127.0.0.1:30001', '127.0.0.1:30003']\n",
      "{17L: '127.0.0.1:30003', 91L: '127.0.0.1:30001', 22L: '127.0.0.1:30002'}\n"
     ]
    },
    {
     "name": "stderr",
     "output_type": "stream",
     "text": [
      "127.0.0.1 - - [22/May/2015 02:49:24] \"GET /set?key=foo&value=blah HTTP/1.1\" 500 56\n"
     ]
    },
    {
     "ename": "KeyboardInterrupt",
     "evalue": "",
     "output_type": "error",
     "traceback": [
      "\u001b[0;31m---------------------------------------------------------------------------\u001b[0m",
      "\u001b[0;31mKeyboardInterrupt\u001b[0m                         Traceback (most recent call last)",
      "\u001b[0;32m<ipython-input-1-c05f6b9cb2bc>\u001b[0m in \u001b[0;36m<module>\u001b[0;34m()\u001b[0m\n\u001b[1;32m     83\u001b[0m     \u001b[0mwsgi_app\u001b[0m \u001b[0;34m=\u001b[0m \u001b[0mWsgiApplication\u001b[0m\u001b[0;34m(\u001b[0m\u001b[0mapplication\u001b[0m\u001b[0;34m)\u001b[0m\u001b[0;34m\u001b[0m\u001b[0m\n\u001b[1;32m     84\u001b[0m     \u001b[0mserver\u001b[0m \u001b[0;34m=\u001b[0m \u001b[0mmake_server\u001b[0m\u001b[0;34m(\u001b[0m\u001b[0;34m'127.0.0.1'\u001b[0m\u001b[0;34m,\u001b[0m \u001b[0;36m8000\u001b[0m\u001b[0;34m,\u001b[0m \u001b[0mwsgi_app\u001b[0m\u001b[0;34m)\u001b[0m\u001b[0;34m\u001b[0m\u001b[0m\n\u001b[0;32m---> 85\u001b[0;31m     \u001b[0mserver\u001b[0m\u001b[0;34m.\u001b[0m\u001b[0mserve_forever\u001b[0m\u001b[0;34m(\u001b[0m\u001b[0;34m)\u001b[0m\u001b[0;34m\u001b[0m\u001b[0m\n\u001b[0m\u001b[1;32m     86\u001b[0m \u001b[0;34m\u001b[0m\u001b[0m\n\u001b[1;32m     87\u001b[0m \u001b[0;34m\u001b[0m\u001b[0m\n",
      "\u001b[0;32m/Users/srao/anaconda/lib/python2.7/SocketServer.pyc\u001b[0m in \u001b[0;36mserve_forever\u001b[0;34m(self, poll_interval)\u001b[0m\n\u001b[1;32m    234\u001b[0m                 \u001b[0;31m# shutdown request and wastes cpu at all other times.\u001b[0m\u001b[0;34m\u001b[0m\u001b[0;34m\u001b[0m\u001b[0m\n\u001b[1;32m    235\u001b[0m                 r, w, e = _eintr_retry(select.select, [self], [], [],\n\u001b[0;32m--> 236\u001b[0;31m                                        poll_interval)\n\u001b[0m\u001b[1;32m    237\u001b[0m                 \u001b[0;32mif\u001b[0m \u001b[0mself\u001b[0m \u001b[0;32min\u001b[0m \u001b[0mr\u001b[0m\u001b[0;34m:\u001b[0m\u001b[0;34m\u001b[0m\u001b[0m\n\u001b[1;32m    238\u001b[0m                     \u001b[0mself\u001b[0m\u001b[0;34m.\u001b[0m\u001b[0m_handle_request_noblock\u001b[0m\u001b[0;34m(\u001b[0m\u001b[0;34m)\u001b[0m\u001b[0;34m\u001b[0m\u001b[0m\n",
      "\u001b[0;32m/Users/srao/anaconda/lib/python2.7/SocketServer.pyc\u001b[0m in \u001b[0;36m_eintr_retry\u001b[0;34m(func, *args)\u001b[0m\n\u001b[1;32m    153\u001b[0m     \u001b[0;32mwhile\u001b[0m \u001b[0mTrue\u001b[0m\u001b[0;34m:\u001b[0m\u001b[0;34m\u001b[0m\u001b[0m\n\u001b[1;32m    154\u001b[0m         \u001b[0;32mtry\u001b[0m\u001b[0;34m:\u001b[0m\u001b[0;34m\u001b[0m\u001b[0m\n\u001b[0;32m--> 155\u001b[0;31m             \u001b[0;32mreturn\u001b[0m \u001b[0mfunc\u001b[0m\u001b[0;34m(\u001b[0m\u001b[0;34m*\u001b[0m\u001b[0margs\u001b[0m\u001b[0;34m)\u001b[0m\u001b[0;34m\u001b[0m\u001b[0m\n\u001b[0m\u001b[1;32m    156\u001b[0m         \u001b[0;32mexcept\u001b[0m \u001b[0;34m(\u001b[0m\u001b[0mOSError\u001b[0m\u001b[0;34m,\u001b[0m \u001b[0mselect\u001b[0m\u001b[0;34m.\u001b[0m\u001b[0merror\u001b[0m\u001b[0;34m)\u001b[0m \u001b[0;32mas\u001b[0m \u001b[0me\u001b[0m\u001b[0;34m:\u001b[0m\u001b[0;34m\u001b[0m\u001b[0m\n\u001b[1;32m    157\u001b[0m             \u001b[0;32mif\u001b[0m \u001b[0me\u001b[0m\u001b[0;34m.\u001b[0m\u001b[0margs\u001b[0m\u001b[0;34m[\u001b[0m\u001b[0;36m0\u001b[0m\u001b[0;34m]\u001b[0m \u001b[0;34m!=\u001b[0m \u001b[0merrno\u001b[0m\u001b[0;34m.\u001b[0m\u001b[0mEINTR\u001b[0m\u001b[0;34m:\u001b[0m\u001b[0;34m\u001b[0m\u001b[0m\n",
      "\u001b[0;31mKeyboardInterrupt\u001b[0m: "
     ]
    }
   ],
   "source": [
    "import logging\n",
    "logging.basicConfig(level=logging.DEBUG)\n",
    "from spyne.application import Application\n",
    "from spyne.decorator import srpc\n",
    "from spyne.service import ServiceBase\n",
    "from spyne.model.primitive import Integer\n",
    "from spyne.model.primitive import Unicode\n",
    "from spyne.model.complex import Iterable\n",
    "from spyne.protocol.http import HttpRpc\n",
    "from spyne.protocol.json import JsonDocument\n",
    "from spyne.server.wsgi import WsgiApplication\n",
    "import hashlib\n",
    "import redis\n",
    "\n",
    "class DiminishedTriadService(ServiceBase):\n",
    "\n",
    "    def __init__(self):\n",
    "        print \"I am being instantiated !!!!\"\n",
    "        \n",
    "    @srpc(Unicode, _returns=Unicode)\n",
    "    def get(key):\n",
    "        backs = getNextNBackends(key)\n",
    "        #r = redis.StrictRedis(host='localhost', port=30001, db=0)\n",
    "        print \"lenght of backs : \", len(backs)\n",
    "        print \"backs : \", backs\n",
    "        print hash_to_back_map\n",
    "        addr = backs[0].split(\":\")[0]\n",
    "        port = backs[0].split(\":\")[1]\n",
    "        r = redis.StrictRedis(host=addr, port=port, db=0)\n",
    "        return r.get(key)\n",
    "      \n",
    "    \n",
    "    @srpc(Unicode,Unicode, _returns=Unicode)\n",
    "    def set(key,value):\n",
    "        #r = redis.StrictRedis(host='localhost', port=30001, db=0)\n",
    "        backs = getNextNBackends(key)\n",
    "        print \"lenght of backs : \", len(backs)\n",
    "        print \"backs : \", backs\n",
    "        print hash_to_back_map\n",
    "        for s in backs:\n",
    "            addr = s.split(\":\")[0]\n",
    "            port = s.split(\":\")[1]\n",
    "            r = redis.StrictRedis(host=addr, port=port, db=0)   \n",
    "            r.set(key,value)\n",
    "        return \"\"\n",
    "\n",
    "############################### End of Class DiminishedTriadService ########################################\n",
    "\n",
    "NUMBACKENDS = 100 # this determines what we are modding by\n",
    "NUMBACKUPS = 1\n",
    "\n",
    "def getRingPos(key):\n",
    "    return int(hashlib.sha1(key).hexdigest(), 16) % NUMBACKENDS\n",
    "\n",
    "hash_to_back_map = {\n",
    "                            getRingPos(\"127.0.0.1:30001\"):\"127.0.0.1:30001\",\n",
    "                            getRingPos(\"127.0.0.1:30002\"):\"127.0.0.1:30002\",\n",
    "                            getRingPos(\"127.0.0.1:30003\"):\"127.0.0.1:30003\"\n",
    "                    }\n",
    "\n",
    "def getNextNBackends(key):\n",
    "    keys = hash_to_back_map.keys()\n",
    "    print \"keys : \", keys\n",
    "    keys.append(getRingPos(key))\n",
    "    keys = sorted(keys)\n",
    "    index = keys.index(getRingPos(key))\n",
    "    out = []\n",
    "    for i in range(1,NUMBACKUPS+2):\n",
    "        if keys[(index + i)%len(keys)] in hash_to_back_map and hash_to_back_map[keys[(index + i)%len(keys)]] not in out:\n",
    "            out.append(hash_to_back_map[keys[(index + i)%len(keys)]])\n",
    "    print \"getNextNBackends for key : \",key,\" returning : {\",out,\"}\"\n",
    "    return out\n",
    "\n",
    "if __name__ == '__main__':\n",
    "    from wsgiref.simple_server import make_server\n",
    "    #logging.basicConfig(level=logging.DEBUG)\n",
    "    #logging.getLogger('spyne.protocol.xml').setLevel(logging.DEBUG)\n",
    "    application = Application([DiminishedTriadService],\n",
    "        tns='DiminishedTriadService',\n",
    "        in_protocol=HttpRpc(validator='soft'),\n",
    "        out_protocol=JsonDocument()\n",
    "    )\n",
    "    wsgi_app = WsgiApplication(application)\n",
    "    server = make_server('127.0.0.1', 8000, wsgi_app)\n",
    "    server.serve_forever()\n",
    "    \n",
    "    \n",
    "    "
   ]
  },
  {
   "cell_type": "code",
   "execution_count": null,
   "metadata": {
    "collapsed": true
   },
   "outputs": [],
   "source": []
  }
 ],
 "metadata": {
  "kernelspec": {
   "display_name": "Python 2",
   "language": "python",
   "name": "python2"
  },
  "language_info": {
   "codemirror_mode": {
    "name": "ipython",
    "version": 2
   },
   "file_extension": ".py",
   "mimetype": "text/x-python",
   "name": "python",
   "nbconvert_exporter": "python",
   "pygments_lexer": "ipython2",
   "version": "2.7.9"
  }
 },
 "nbformat": 4,
 "nbformat_minor": 0
}
