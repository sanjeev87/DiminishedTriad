{
 "metadata": {
  "kernelspec": {
   "display_name": "Python 2",
   "language": "python",
   "name": "python2"
  },
  "language_info": {
   "codemirror_mode": {
    "name": "ipython",
    "version": 2
   },
   "file_extension": ".py",
   "mimetype": "text/x-python",
   "name": "python",
   "nbconvert_exporter": "python",
   "pygments_lexer": "ipython2",
   "version": "2.7.9"
  },
  "name": "",
  "signature": "sha256:5d6173719b20be0a6952a5d2c7a6e42ced3c0c6a74b45062f6c2c41f56ba0d24"
 },
 "nbformat": 3,
 "nbformat_minor": 0,
 "worksheets": [
  {
   "cells": [
    {
     "cell_type": "code",
     "collapsed": false,
     "input": [
      "import logging\n",
      "logging.basicConfig(level=logging.DEBUG)\n",
      "from spyne.application import Application\n",
      "from spyne.decorator import srpc\n",
      "from spyne.service import ServiceBase\n",
      "from spyne.model.primitive import Integer\n",
      "from spyne.model.primitive import Unicode\n",
      "from spyne.model.complex import Iterable\n",
      "from spyne.protocol.http import HttpRpc\n",
      "from spyne.protocol.json import JsonDocument\n",
      "from spyne.server.wsgi import WsgiApplication\n",
      "import hashlib\n",
      "import redis\n",
      "\n",
      "\n",
      "class DiminishedTriadService(ServiceBase):\n",
      "    \n",
      "    \n",
      "    \n",
      "    \n",
      "    \n",
      "    \n",
      "\n",
      "    def __init__():\n",
      "        print \"I am being instantiated !!!!\"\n",
      "        \n",
      "    @srpc(Unicode, _returns=Unicode)\n",
      "    def get(key):\n",
      "        backs = getNextNBackends(key)\n",
      "        #r = redis.StrictRedis(host='localhost', port=30001, db=0)\n",
      "        r = redis.StrictRedis(host=backs[0][0], port=backs[0][1], db=0)\n",
      "        return r.get(key)\n",
      "    \n",
      "    @srpc(Unicode,Unicode, _returns=Unicode)\n",
      "    def set(key,value):\n",
      "        #r = redis.StrictRedis(host='localhost', port=30001, db=0)\n",
      "        backs = getNextNBackends(key)\n",
      "        r = redis.StrictRedis(host=backs[0][0], port=backs[0][1], db=0)     \n",
      "        return r.set(key, value)\n",
      "# global NUMBACKENDS\n",
      "# global NUMBACKUPS\n",
      "NUMBACKENDS = 100 # this determines what we are modding by\n",
      "NUMBACKUPS = 1\n",
      "    \n",
      "def getRingPos(key):\n",
      "    return int(hashlib.sha1(key).hexdigest(), 16) % NUMBACKENDS\n",
      "hash_to_back_map = {\n",
      "                            getRingPos(\"127.0.0.1:30001\"):[\"127.0.0.1\",\"30001\"],\n",
      "                            getRingPos(\"127.0.0.1:30002\"):[\"127.0.0.1\",\"30002\"],\n",
      "                            getRingPos(\"127.0.0.1:30003\"):[\"127.0.0.1\",\"30003\"]\n",
      "                        }\n",
      "def getNextNBackends(key):\n",
      "    keys = hash_to_back_map.keys()\n",
      "    keys.append(getRingPos(key))\n",
      "    keys = sorted(keys)\n",
      "    index = keys.index(getRingPos(key))\n",
      "    out = []\n",
      "    for i in range(NUMBACKUPS):\n",
      "        if keys[(index + i)%len(keys)] in hash_to_back_map and hash_to_back_map(keys[(index + i)%len(keys)]) not in out:\n",
      "            out.append(hash_to_back_map(keys[(index + i)%len(keys)]))\n",
      "    print \"getNextNBackends for key : \",key,\" returning : {\",out,\"}\"\n",
      "    return out\n",
      "if __name__ == '__main__':\n",
      "    from wsgiref.simple_server import make_server\n",
      "    logging.basicConfig(level=logging.DEBUG)\n",
      "    logging.getLogger('spyne.protocol.xml').setLevel(logging.DEBUG)\n",
      "    application = Application([DiminishedTriadService],\n",
      "        tns='DiminishedTriadService',\n",
      "        in_protocol=HttpRpc(validator='soft'),\n",
      "        out_protocol=JsonDocument()\n",
      "    )\n",
      "    wsgi_app = WsgiApplication(application)\n",
      "    server = make_server('127.0.0.1', 8000, wsgi_app)\n",
      "    server.serve_forever()"
     ],
     "language": "python",
     "metadata": {
      "scrolled": true
     },
     "outputs": [
      {
       "output_type": "stream",
       "stream": "stderr",
       "text": [
        "ERROR:spyne.application:list index out of range\n",
        "Traceback (most recent call last):\n",
        "  File \"/Library/Python/2.7/site-packages/spyne/application.py\", line 144, in process_request\n",
        "    ctx.out_object = self.call_wrapper(ctx)\n",
        "  File \"/Library/Python/2.7/site-packages/spyne/application.py\", line 199, in call_wrapper\n",
        "    retval = ctx.descriptor.service_class.call_wrapper(ctx)\n",
        "  File \"/Library/Python/2.7/site-packages/spyne/service.py\", line 207, in call_wrapper\n",
        "    return ctx.function(*ctx.in_object)\n",
        "  File \"<ipython-input-1-ec63fc9cce9b>\", line 38, in set\n",
        "    r = redis.StrictRedis(host=backs[0][0], port=backs[0][1], db=0)\n",
        "IndexError: list index out of range\n"
       ]
      },
      {
       "output_type": "stream",
       "stream": "stdout",
       "text": [
        "getNextNBackends for key :  foo  returning : { [] }\n"
       ]
      },
      {
       "output_type": "stream",
       "stream": "stderr",
       "text": [
        "127.0.0.1 - - [22/May/2015 00:52:45] \"GET /set?key=foo&value=bar HTTP/1.1\" 500 56\n"
       ]
      },
      {
       "ename": "KeyboardInterrupt",
       "evalue": "",
       "output_type": "pyerr",
       "traceback": [
        "\u001b[0;31m---------------------------------------------------------------------------\u001b[0m\n\u001b[0;31mKeyboardInterrupt\u001b[0m                         Traceback (most recent call last)",
        "\u001b[0;32m<ipython-input-1-ec63fc9cce9b>\u001b[0m in \u001b[0;36m<module>\u001b[0;34m()\u001b[0m\n\u001b[1;32m     72\u001b[0m     \u001b[0mwsgi_app\u001b[0m \u001b[0;34m=\u001b[0m \u001b[0mWsgiApplication\u001b[0m\u001b[0;34m(\u001b[0m\u001b[0mapplication\u001b[0m\u001b[0;34m)\u001b[0m\u001b[0;34m\u001b[0m\u001b[0m\n\u001b[1;32m     73\u001b[0m     \u001b[0mserver\u001b[0m \u001b[0;34m=\u001b[0m \u001b[0mmake_server\u001b[0m\u001b[0;34m(\u001b[0m\u001b[0;34m'127.0.0.1'\u001b[0m\u001b[0;34m,\u001b[0m \u001b[0;36m8000\u001b[0m\u001b[0;34m,\u001b[0m \u001b[0mwsgi_app\u001b[0m\u001b[0;34m)\u001b[0m\u001b[0;34m\u001b[0m\u001b[0m\n\u001b[0;32m---> 74\u001b[0;31m     \u001b[0mserver\u001b[0m\u001b[0;34m.\u001b[0m\u001b[0mserve_forever\u001b[0m\u001b[0;34m(\u001b[0m\u001b[0;34m)\u001b[0m\u001b[0;34m\u001b[0m\u001b[0m\n\u001b[0m",
        "\u001b[0;32m/System/Library/Frameworks/Python.framework/Versions/2.7/lib/python2.7/SocketServer.pyc\u001b[0m in \u001b[0;36mserve_forever\u001b[0;34m(self, poll_interval)\u001b[0m\n\u001b[1;32m    234\u001b[0m                 \u001b[0;31m# shutdown request and wastes cpu at all other times.\u001b[0m\u001b[0;34m\u001b[0m\u001b[0;34m\u001b[0m\u001b[0m\n\u001b[1;32m    235\u001b[0m                 r, w, e = _eintr_retry(select.select, [self], [], [],\n\u001b[0;32m--> 236\u001b[0;31m                                        poll_interval)\n\u001b[0m\u001b[1;32m    237\u001b[0m                 \u001b[0;32mif\u001b[0m \u001b[0mself\u001b[0m \u001b[0;32min\u001b[0m \u001b[0mr\u001b[0m\u001b[0;34m:\u001b[0m\u001b[0;34m\u001b[0m\u001b[0m\n\u001b[1;32m    238\u001b[0m                     \u001b[0mself\u001b[0m\u001b[0;34m.\u001b[0m\u001b[0m_handle_request_noblock\u001b[0m\u001b[0;34m(\u001b[0m\u001b[0;34m)\u001b[0m\u001b[0;34m\u001b[0m\u001b[0m\n",
        "\u001b[0;32m/System/Library/Frameworks/Python.framework/Versions/2.7/lib/python2.7/SocketServer.pyc\u001b[0m in \u001b[0;36m_eintr_retry\u001b[0;34m(func, *args)\u001b[0m\n\u001b[1;32m    153\u001b[0m     \u001b[0;32mwhile\u001b[0m \u001b[0mTrue\u001b[0m\u001b[0;34m:\u001b[0m\u001b[0;34m\u001b[0m\u001b[0m\n\u001b[1;32m    154\u001b[0m         \u001b[0;32mtry\u001b[0m\u001b[0;34m:\u001b[0m\u001b[0;34m\u001b[0m\u001b[0m\n\u001b[0;32m--> 155\u001b[0;31m             \u001b[0;32mreturn\u001b[0m \u001b[0mfunc\u001b[0m\u001b[0;34m(\u001b[0m\u001b[0;34m*\u001b[0m\u001b[0margs\u001b[0m\u001b[0;34m)\u001b[0m\u001b[0;34m\u001b[0m\u001b[0m\n\u001b[0m\u001b[1;32m    156\u001b[0m         \u001b[0;32mexcept\u001b[0m \u001b[0;34m(\u001b[0m\u001b[0mOSError\u001b[0m\u001b[0;34m,\u001b[0m \u001b[0mselect\u001b[0m\u001b[0;34m.\u001b[0m\u001b[0merror\u001b[0m\u001b[0;34m)\u001b[0m \u001b[0;32mas\u001b[0m \u001b[0me\u001b[0m\u001b[0;34m:\u001b[0m\u001b[0;34m\u001b[0m\u001b[0m\n\u001b[1;32m    157\u001b[0m             \u001b[0;32mif\u001b[0m \u001b[0me\u001b[0m\u001b[0;34m.\u001b[0m\u001b[0margs\u001b[0m\u001b[0;34m[\u001b[0m\u001b[0;36m0\u001b[0m\u001b[0;34m]\u001b[0m \u001b[0;34m!=\u001b[0m \u001b[0merrno\u001b[0m\u001b[0;34m.\u001b[0m\u001b[0mEINTR\u001b[0m\u001b[0;34m:\u001b[0m\u001b[0;34m\u001b[0m\u001b[0m\n",
        "\u001b[0;31mKeyboardInterrupt\u001b[0m: "
       ]
      }
     ],
     "prompt_number": 1
    },
    {
     "cell_type": "code",
     "collapsed": true,
     "input": [],
     "language": "python",
     "metadata": {},
     "outputs": [],
     "prompt_number": null
    }
   ],
   "metadata": {}
  }
 ]
}