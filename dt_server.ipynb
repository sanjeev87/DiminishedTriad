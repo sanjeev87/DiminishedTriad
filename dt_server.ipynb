{
 "cells": [
  {
   "cell_type": "code",
   "execution_count": null,
   "metadata": {
    "collapsed": false,
    "scrolled": true
   },
   "outputs": [
    {
     "name": "stderr",
     "output_type": "stream",
     "text": [
      "ERROR:spyne.application:global name 'self' is not defined\n",
      "Traceback (most recent call last):\n",
      "  File \"/Users/srao/anaconda/lib/python2.7/site-packages/spyne-2.11.0-py2.7.egg/spyne/application.py\", line 144, in process_request\n",
      "    ctx.out_object = self.call_wrapper(ctx)\n",
      "  File \"/Users/srao/anaconda/lib/python2.7/site-packages/spyne-2.11.0-py2.7.egg/spyne/application.py\", line 199, in call_wrapper\n",
      "    retval = ctx.descriptor.service_class.call_wrapper(ctx)\n",
      "  File \"/Users/srao/anaconda/lib/python2.7/site-packages/spyne-2.11.0-py2.7.egg/spyne/service.py\", line 207, in call_wrapper\n",
      "    return ctx.function(*ctx.in_object)\n",
      "  File \"<ipython-input-1-5c783e712aed>\", line 56, in set\n",
      "    backs = self.getNextNBackends(key)\n",
      "NameError: global name 'self' is not defined\n"
     ]
    }
   ],
   "source": [
    "import logging\n",
    "logging.basicConfig(level=logging.DEBUG)\n",
    "from spyne.application import Application\n",
    "from spyne.decorator import srpc\n",
    "from spyne.service import ServiceBase\n",
    "from spyne.model.primitive import Integer\n",
    "from spyne.model.primitive import Unicode\n",
    "from spyne.model.complex import Iterable\n",
    "from spyne.protocol.http import HttpRpc\n",
    "from spyne.protocol.json import JsonDocument\n",
    "from spyne.server.wsgi import WsgiApplication\n",
    "import hashlib\n",
    "import redis\n",
    "\n",
    "class DiminishedTriadService(ServiceBase):\n",
    "    global NUMBACKENDS\n",
    "    global NUMBACKUPS\n",
    "    NUMBACKENDS = 100 # this determines what we are modding by\n",
    "    NUMBACKUPS = 1\n",
    "    \n",
    "    def getRingPos(key):\n",
    "        return int(hashlib.sha1(key).hexdigest(), 16) % NUMBACKENDS\n",
    "    \n",
    "    hash_to_back_map = {\n",
    "                            getRingPos(\"127.0.0.1:30001\"):[\"127.0.0.1\",\"30001\"],\n",
    "                            getRingPos(\"127.0.0.1:30002\"):[\"127.0.0.1\",\"30002\"],\n",
    "                            getRingPos(\"127.0.0.1:30003\"):[\"127.0.0.1\",\"30003\"]\n",
    "                        }\n",
    "    \n",
    "    def getNextNBackends(key):\n",
    "        keys = hash_to_back_map.keys()\n",
    "        keys = append(keys,getRingPos(key))\n",
    "        keys = sorted(keys)\n",
    "        index = keys.index(getRingPos(key))\n",
    "        out = []\n",
    "        for i in range(NUMBACKUPS):\n",
    "            if keys[(index + i)%len(keys)] in hash_to_back_map and hash_to_back_map(keys[(index + i)%len(keys)]) not in out:\n",
    "                out = append(out,hash_to_back_map(keys[(index + i)%len(keys)]))\n",
    "        print \"getNextNBackends for key : \",key,\" returning : {\",out,\"}\"\n",
    "        return out\n",
    "    \n",
    "\n",
    "    def __init__():\n",
    "        print \"I am being instantiated !!!!\"\n",
    "        \n",
    "    @srpc(Unicode, _returns=Unicode)\n",
    "    def get(key):\n",
    "        backs = getNextNBackends(key)\n",
    "        #r = redis.StrictRedis(host='localhost', port=30001, db=0)\n",
    "        r = redis.StrictRedis(host=backs[0][0], port=backs[0][1], db=0)\n",
    "        return r.get(key)\n",
    "    \n",
    "    @srpc(Unicode,Unicode, _returns=Unicode)\n",
    "    def set(key,value):\n",
    "        #r = redis.StrictRedis(host='localhost', port=30001, db=0)\n",
    "        backs = getNextNBackends(key)\n",
    "        r = redis.StrictRedis(host=backs[0][0], port=backs[0][1], db=0)     \n",
    "        return r.set(key, value)\n",
    "    \n",
    "if __name__ == '__main__':\n",
    "    from wsgiref.simple_server import make_server\n",
    "    logging.basicConfig(level=logging.DEBUG)\n",
    "    logging.getLogger('spyne.protocol.xml').setLevel(logging.DEBUG)\n",
    "    application = Application([DiminishedTriadService],\n",
    "        tns='DiminishedTriadService',\n",
    "        in_protocol=HttpRpc(validator='soft'),\n",
    "        out_protocol=JsonDocument()\n",
    "    )\n",
    "    wsgi_app = WsgiApplication(application)\n",
    "    server = make_server('127.0.0.1', 8000, wsgi_app)\n",
    "    server.serve_forever()"
   ]
  },
  {
   "cell_type": "code",
   "execution_count": null,
   "metadata": {
    "collapsed": true
   },
   "outputs": [],
   "source": []
  }
 ],
 "metadata": {
  "kernelspec": {
   "display_name": "Python 2",
   "language": "python",
   "name": "python2"
  },
  "language_info": {
   "codemirror_mode": {
    "name": "ipython",
    "version": 2
   },
   "file_extension": ".py",
   "mimetype": "text/x-python",
   "name": "python",
   "nbconvert_exporter": "python",
   "pygments_lexer": "ipython2",
   "version": "2.7.9"
  }
 },
 "nbformat": 4,
 "nbformat_minor": 0
}
