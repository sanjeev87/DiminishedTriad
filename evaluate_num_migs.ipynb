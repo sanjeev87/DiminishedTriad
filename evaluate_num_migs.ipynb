{
 "cells": [
  {
   "cell_type": "code",
   "execution_count": null,
   "metadata": {
    "collapsed": true
   },
   "outputs": [],
   "source": [
    "import random\n",
    "\n",
    "server_list\n",
    "\n",
    "def getRandomString():\n",
    "    \n",
    "    \n",
    "def startSentinel():\n",
    "\n",
    "    \n",
    "def killSentinel():\n",
    "\n",
    "    \n",
    "\n",
    "#start redis + DT server + notify sentinel\n",
    "#update server_list\n",
    "def startServers(numServers):\n",
    "    \n",
    "\n",
    "#kill the redis server at addr\n",
    "#update server_list\n",
    "def killServer(addr):\n",
    "    \n",
    "\n",
    "#get and write the status to some log\n",
    "def getStatus():\n",
    "    \n",
    "#compute num migrations from two succesie status calls and write to file\n",
    "def getNumMigrations():"
   ]
  }
 ],
 "metadata": {
  "kernelspec": {
   "display_name": "Python 2",
   "language": "python",
   "name": "python2"
  },
  "language_info": {
   "codemirror_mode": {
    "name": "ipython",
    "version": 2
   },
   "file_extension": ".py",
   "mimetype": "text/x-python",
   "name": "python",
   "nbconvert_exporter": "python",
   "pygments_lexer": "ipython2",
   "version": "2.7.9"
  }
 },
 "nbformat": 4,
 "nbformat_minor": 0
}
