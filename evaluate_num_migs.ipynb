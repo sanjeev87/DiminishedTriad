{
 "cells": [
  {
   "cell_type": "code",
   "execution_count": 29,
   "metadata": {
    "collapsed": true
   },
   "outputs": [],
   "source": [
    "import random\n",
    "from random import randint\n",
    "import subprocess\n",
    "import os\n",
    "import signal\n",
    "from subprocess import call\n",
    "import time\n",
    "import string"
   ]
  },
  {
   "cell_type": "code",
   "execution_count": 30,
   "metadata": {
    "collapsed": true
   },
   "outputs": [],
   "source": [
    "server_list = {}"
   ]
  },
  {
   "cell_type": "code",
   "execution_count": 31,
   "metadata": {
    "collapsed": false
   },
   "outputs": [],
   "source": [
    "def getRandomString(size=6, chars=string.ascii_uppercase + string.digits):\n",
    "    return ''.join(random.choice(chars) for _ in range(size))\n",
    "\n",
    "def getRandomPortNum():\n",
    "    return randint(30000,40000)\n",
    "\n",
    "def getUniqueRandomPortNum():\n",
    "    p = randint(30000,40000)\n",
    "    while True:\n",
    "        unique = True\n",
    "        for s in server_list:\n",
    "            p2 = int(s.split(':')[1])\n",
    "            if p2 == p:\n",
    "                unique = False\n",
    "                break\n",
    "        if unique: return p\n",
    "        p = randint(30000,40000)\n",
    "    \n",
    "\n",
    "\n",
    "def startProc(args):\n",
    "    return subprocess.Popen(args)\n",
    "\n",
    "# p should be a process type\n",
    "def killProc(proc):\n",
    "    try:\n",
    "        os.killpg(proc.pid+1, signal.SIGTERM)\n",
    "#         call([\"kill\", \"-9\",str(proc.pid+1)]) #kill redis server pid+1 works for some reason\n",
    "#         call([\"kill\", \"-9\", str(proc.pid)])\n",
    "        return True\n",
    "    except:\n",
    "        print \"Failed to kill proc pid:\", proc.pid, \" maybe doesn't exist\"\n",
    "\n",
    "def stopServer(p):\n",
    "    s = \"redis-cli -p \" + str(p) + \" shutdown nosave\"\n",
    "    call(s.split())\n",
    "    \n",
    "\n",
    "def killAllServers():\n",
    "    for s in server_list:\n",
    "        print \"Killing server:\",s,\" pid:\", server_list[s].pid\n",
    "        #killProc(server_list[s])\n",
    "        stopServer(int(s.split(':')[1]))\n",
    "\n",
    "def startServer(ip = \"127.0.0.1\", port=getRandomPortNum()):\n",
    "    s = (\"redis-server --port \" + str(port) + \" --appendonly yes --appendfilename appendonly-\" + str(port) + \".aof\"\n",
    "    \" --dbfilename dump-\" + str(port) + \".rdb --logfile \" + str(port) + \".log --daemonize yes --loglevel verbose\")\n",
    "#     print s\n",
    "#     print s.split()\n",
    "    p = startProc(s.split())\n",
    "    sp = ip + \":\" + str(port)\n",
    "    print \"Started server:\",sp, \" proc\", p.pid\n",
    "    server_list[sp] = p\n",
    "\n",
    "def startServers(numServers):\n",
    "    for i in range(numServers):\n",
    "        startServer(port=getUniqueRandomPortNum())\n",
    "    "
   ]
  },
  {
   "cell_type": "code",
   "execution_count": null,
   "metadata": {
    "collapsed": false
   },
   "outputs": [],
   "source": [
    "startServers(10)"
   ]
  },
  {
   "cell_type": "code",
   "execution_count": null,
   "metadata": {
    "collapsed": false
   },
   "outputs": [],
   "source": [
    "killAllServers()"
   ]
  },
  {
   "cell_type": "code",
   "execution_count": null,
   "metadata": {
    "collapsed": true
   },
   "outputs": [],
   "source": [
    "\n",
    "\n",
    "\n",
    "def getRandomString():\n",
    "    \n",
    "    \n",
    "def startSentinel():\n",
    "\n",
    "    \n",
    "def killSentinel():\n",
    "\n",
    "#start redis + DT server + notify sentinel\n",
    "#update server_list\n",
    "    \n",
    "\n",
    "def startServers(numServers):\n",
    "\n",
    "    \n",
    "\n",
    "#kill the redis server at addr\n",
    "#update server_list\n",
    "def killServer(addr):\n",
    "    \n",
    "\n",
    "#get and write the status to some log\n",
    "def getStatus():\n",
    "    \n",
    "#compute num migrations from two succesie status calls and write to file\n",
    "def getNumMigrations():"
   ]
  }
 ],
 "metadata": {
  "kernelspec": {
   "display_name": "Python 2",
   "language": "python",
   "name": "python2"
  },
  "language_info": {
   "codemirror_mode": {
    "name": "ipython",
    "version": 2
   },
   "file_extension": ".py",
   "mimetype": "text/x-python",
   "name": "python",
   "nbconvert_exporter": "python",
   "pygments_lexer": "ipython2",
   "version": "2.7.6"
  }
 },
 "nbformat": 4,
 "nbformat_minor": 0
}
