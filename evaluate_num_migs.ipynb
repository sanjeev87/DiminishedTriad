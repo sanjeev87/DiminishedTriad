{
 "cells": [
  {
   "cell_type": "code",
   "execution_count": null,
   "metadata": {
    "collapsed": true
   },
   "outputs": [],
   "source": [
    "import random\n",
    "from random import randint\n",
    "import subprocess\n",
    "import os\n",
    "import signal\n",
    "from subprocess import call\n",
    "import time\n",
    "import string\n",
    "import redis\n",
    "import urllib\n",
    "import urllib2\n",
    "random.seed()"
   ]
  },
  {
   "cell_type": "code",
   "execution_count": 292,
   "metadata": {
    "collapsed": false
   },
   "outputs": [],
   "source": [
    "def getRandomString(size=6, chars=string.ascii_uppercase + string.digits):\n",
    "    return ''.join(random.choice(chars) for _ in range(size))\n",
    "\n",
    "def getRandomPortNum():\n",
    "    return randint(30000,40000)\n",
    "\n",
    "def getUniqueRandomPortNum():\n",
    "    p = randint(30000,40000)\n",
    "    while True:\n",
    "        unique = True\n",
    "        for s in server_list:\n",
    "            p2 = int(s.split(':')[1])\n",
    "            if p2 == p:\n",
    "                unique = False\n",
    "                break\n",
    "        if unique: return p\n",
    "        p = randint(30000,40000)\n",
    "    \n",
    "\n",
    "\n",
    "def startProc(args):\n",
    "    return subprocess.Popen(args)\n",
    "\n",
    "# p should be a process type\n",
    "def killProc(proc):\n",
    "    try:\n",
    "        os.killpg(proc.pid, signal.SIGTERM)\n",
    "#         call([\"kill\", \"-9\",str(proc.pid+1)]) #kill redis server pid+1 works for some reason\n",
    "#         call([\"kill\", \"-9\", str(proc.pid)])\n",
    "        return True\n",
    "    except:\n",
    "        print \"Failed to kill proc pid:\", proc.pid, \" maybe doesn't exist\"\n",
    "\n",
    "def stopServer(addr,flag=True):\n",
    "    p = addr.split(':')[1]\n",
    "    s = \"redis-cli -p \" + str(p) + \" shutdown nosave\"\n",
    "    call(s.split())\n",
    "#     stopMonitoring(addr)\n",
    "    if flag: server_list.pop(addr, None)\n",
    "    killDtServer(addr)\n",
    "\n",
    "def killDtServer(addr):\n",
    "    p = int(addr.split(\":\")[1]) + 20000\n",
    "    c = \"lsof -t -i:\"+str(p)\n",
    "    task = subprocess.Popen(c.split(),stdout=subprocess.PIPE)\n",
    "    pid = task.stdout.read().strip()\n",
    "    if pid == \"\":\n",
    "        print \"No such proc:\",addr\n",
    "        return\n",
    "    print \"Killing DT server:\", addr, \"PID: \", pid\n",
    "    call([\"kill\", pid])\n",
    "\n",
    "def killAllServers():\n",
    "    for s in server_list:\n",
    "        print \"Killing server:\",s,\" pid:\", server_list[s].pid\n",
    "        #killProc(server_list[s])\n",
    "        stopServer(s, False)\n",
    "        \n",
    "def startServer(ip = \"127.0.0.1\", port=None):\n",
    "    if port == None:port=getRandomPortNum()\n",
    "        \n",
    "    s = (\"redis-server --port \" + str(port) + \" --appendonly yes --appendfilename appendonly-\" + str(port) + \".aof\"\n",
    "    \" --dbfilename dump-\" + str(port) + \".rdb --logfile \" + str(port) + \".log --daemonize yes --loglevel verbose\")\n",
    "#     print s\n",
    "#     print s.split()\n",
    "    p = startProc(s.split())\n",
    "    sp = ip + \":\" + str(port)\n",
    "    print \"Started server:\",sp, \" proc\", p.pid\n",
    "    server_list[sp] = p\n",
    "    startMonitoring(sp)\n",
    "    startDtServer(ip + \":\" +str(port + 20000))\n",
    "    time.sleep(1)\n",
    "\n",
    "def startDtServer(addr):\n",
    "    print \"Starting DT_Server\", addr\n",
    "    os.system(\"python dt_server.py \"+addr.split(\":\")[0]+\" \"+ addr.split(\":\")[1]+ \" > pdt_server_\" + addr.split(\":\")[1] + \".txt 2>&1 &\")\n",
    "\n",
    "def startServers(numServers):\n",
    "    server_list.clear()\n",
    "    for i in range(numServers):\n",
    "        startServer(port=getUniqueRandomPortNum())\n",
    "\n",
    "        \n",
    "def startMonitoring(addr):\n",
    "    print \"masterP_\" + addr\n",
    "    REDIS_SENTINEL.sentinel_monitor(\"masterP_\" + addr, addr.split(':')[0], addr.split(':')[1], 2)\n",
    "def stopMonitoring(addr):\n",
    "    REDIS_SENTINEL.sentinel_remove(\"masterP_\" + addr)\n",
    "\n",
    "def stopMonitoringAll():\n",
    "    for i in server_list.keys(): \n",
    "        try:\n",
    "            stopMonitoring(i)\n",
    "        except:\n",
    "            i = 0\n",
    "\n",
    "def startDtSentinel():\n",
    "    s = \"python dt-sentinel.py\"\n",
    "\n",
    "#Broken\n",
    "def cleanUp():\n",
    "    print os.listdir('.')\n",
    "    call([\"rm\", \"*.log\"])\n",
    "#     call([\"rm\", \"-rf\", \"*.log\"])\n",
    "#     call([\"rm\", \"-rf\", \"appendonly*.aof\"])\n",
    "#     call([\"rm\", \"-rf\", \"dump*.rdb\"])\n",
    "#     call([\"rm\", \"-rf\", \"nodes*.conf\"])\n",
    "#     call([\"rm\", \"-rf\", \"*.conf\"])\n",
    "\n",
    "def push_to_server(cmd, args, addr=None):\n",
    "    if addr == None:\n",
    "        kk = randint(0,len(server_list.keys()) - 1)\n",
    "        #print \"rand:\",kk, len(server_list.keys())\n",
    "        addr = server_list.keys()[ randint(0,len(server_list.keys()) - 1)]\n",
    "    data = urllib.urlencode(args)\n",
    "    try:\n",
    "        saddr = addr.split(\":\")[0] + \":\" + str(int(addr.split(\":\")[1]) + 20000)\n",
    "        url = \"http://\" + saddr + '/' + cmd + '?'\n",
    "        response = urllib2.urlopen(url+data, timeout = 2)\n",
    "        #print \"POST Request:\" + url+data\n",
    "        result = response.read()\n",
    "        #print \"Response:\" + result\n",
    "        return result\n",
    "    except:\n",
    "        #print \"No response\"\n",
    "        return \"FAIL\"\n",
    "\n",
    "def sendListAsPost(url, slist):\n",
    "    url = url + '/update_hash_to_back_map?'\n",
    "#     print url, slist\n",
    "    s = ''\n",
    "    for i in slist: s = s + ',' + i\n",
    "    s = s[1:]\n",
    "    data = urllib.urlencode({'addrs' : s})\n",
    "#     print 'encoded data', data\n",
    "    try:\n",
    "        response = urllib2.urlopen(url+data)\n",
    "    #     print \"POST Request:\" + url+data\n",
    "        result = response.read()\n",
    "        return result\n",
    "    except:\n",
    "        return \"Oops\"\n",
    "\n",
    "def getMastersList():\n",
    "    return [REDIS_SENTINEL.sentinel_masters()[m]['ip'] + ':' + str(REDIS_SENTINEL.sentinel_masters()[m]['port']) for m in REDIS_SENTINEL.sentinel_masters() if not REDIS_SENTINEL.sentinel_masters()[m]['is_sdown']]\n",
    "\n",
    "def sendMasterList():\n",
    "    time.sleep(2)\n",
    "    ml = getMastersList()\n",
    "    print \"Master list:\",ml\n",
    "    print \"Updating masters map in dt servers\"\n",
    "    for url in ml:\n",
    "        ip,port = url.split(':')\n",
    "        sendListAsPost('http://'+ip+':'+str(int(port) + 20000), ml)\n",
    "    print \"ok\"\n",
    "\n",
    "def get_key(key):\n",
    "    return push_to_server(\"get\",{\"key\":key})\n",
    "\n",
    "def set_key(key, val):\n",
    "    return push_to_server(\"set\",{\"key\":key, \"value\":val})\n",
    "\n",
    "def wrapUp():\n",
    "    killAllServers()\n",
    "    stopMonitoringAll()\n",
    "    server_list.clear()\n",
    "\n",
    "def wrapUp2():\n",
    "    killAllServers()\n",
    "    server_list.clear()\n"
   ]
  },
  {
   "cell_type": "code",
   "execution_count": 276,
   "metadata": {
    "collapsed": false
   },
   "outputs": [
    {
     "name": "stdout",
     "output_type": "stream",
     "text": [
      "Started server: 127.0.0.1:33825  proc 8829\n",
      "Starting DT_Server 127.0.0.1:53825\n",
      "Started server: 127.0.0.1:33700  proc 8833\n",
      "Starting DT_Server 127.0.0.1:53700\n",
      "Started server: 127.0.0.1:37380  proc 8841\n",
      "Starting DT_Server 127.0.0.1:57380\n",
      "Started server: 127.0.0.1:37790  proc 8845\n",
      "Starting DT_Server 127.0.0.1:57790\n",
      "Started server: 127.0.0.1:34005  proc 8849\n",
      "Starting DT_Server 127.0.0.1:54005\n",
      "Started server: 127.0.0.1:35877  proc 8853\n",
      "Starting DT_Server 127.0.0.1:55877\n",
      "Master list: ['127.0.0.1:37790', '127.0.0.1:34005', '127.0.0.1:37380', '127.0.0.1:35877', '127.0.0.1:33825', '127.0.0.1:33700']\n",
      "Updating masters map in dt servers\n",
      "ok\n"
     ]
    }
   ],
   "source": [
    "server_list = {}\n",
    "REDIS_SENTINEL = redis.StrictRedis(host='localhost', port=40001)\n",
    "# cleanUp()\n",
    "startServers(6)\n",
    "sendMasterList()"
   ]
  },
  {
   "cell_type": "code",
   "execution_count": null,
   "metadata": {
    "collapsed": false
   },
   "outputs": [],
   "source": [
    "sendMasterList()"
   ]
  },
  {
   "cell_type": "code",
   "execution_count": null,
   "metadata": {
    "collapsed": false
   },
   "outputs": [],
   "source": [
    "print set_key(\"ww\",\"33\")\n",
    "print get_key(\"ww\")"
   ]
  },
  {
   "cell_type": "code",
   "execution_count": 278,
   "metadata": {
    "collapsed": false
   },
   "outputs": [
    {
     "name": "stdout",
     "output_type": "stream",
     "text": [
      "['FQ7YV3', '1PT07W', 'HA3MA7', 'W4IDR5', 'MTWQ9V', 'YEKE3D', 'RL3VGX', '1JYYXF', 'IN7965', 'B3YE4Z', 'UPKP6G', 'BXML5S', 'UHWZWA', 'U3ABNE', 'FCRJRL', 'BCJYLW', 'A6G41J', 'FV2YOP', 'TDNK32', '4I64TU', 'AD5LOF', 'RPCWQR', 'LL0RSS', 'EURMEE', 'T74M7V', 'H2T4TV', 'BPNDJ1', 'AXR6FV', 'FLXOWT', 'LHM9HC', 'PG84NA', 'T19FYG', 'NKIUV3', '9TRKFM', 'HA1OP9', '5EWSDO', 'Y8JGW8', 'RQKS09', '1KOUAI', '5PRW43', '0E0J9A', 'U4HIAM', '9UZ4B4', '3H6Q16', 'DTQZK3', '8UA2ET', '3WP8RP', 'J0AIUY', 'PX5FIV', '1ZF3OT', 'UCRD2H', '3GECHC', '82MIZ2', 'NZT4LQ', 'DU5FVQ', 'DERE3E', 'HBEUYM', 'C5CLVU', 'PQOO7X', 'FHWQRG', 'LXQEUP', 'JXQSJG', 'VN933C', 'WLBRSQ', 'CMJ6VA', '45ALR6', 'YVYRVK', 'BQFMPC', 'D5VCM6', '8DKD1A', 'N3N3ML', 'QI6WWI', '9DFMDR', 'BITMD4', 'YMISRU', 'ER5LR1', '50EM9R', 'SY24N7', 'IJK1LV', '8ZEV5L', 'J28GX4', 'D6Z4QY', 'L8WF1G', 'IHATY4', '19MHMQ', 'FUTPJ9', '2DZ9YJ', '0BS2VP', '9FB75A', '4DE19H', 'BXGH7W', '25ONSI', '6A1QJZ', 'NBG8Z8', 'TUO31O', '6ZN9I9', 'G1JLDO', 'Y7HR4X', 'EP63GD', '9C00LN', 'JO7GF3', 'R85VUF', 'T864O2', '20KWW4', '43P5AI', '8UF9RU', 'MOL3X2', '4XBCJW', 'IDWK98', '9690E0', 'R28MNN', '6POE93', 'TBN36R', 'MDKQFH', 'EI8YJC', '2T2I4P', 'GYWSJ5', 'QVB1OT', '1SZ04T', '3OP6QK', '41QCPF', 'DMCUKU', 'DF5GSL', 'RYRN1M', 'Z3JUJB', 'P3UXFI', '3DKUKJ', 'MMYB2M', 'T2RT1E', 'TWOR4O', 'WWLJP7', 'ZGGWT8', 'AJ4JB4', '9U8TOL', '83ZGI1', 'T149WL', '745S81', 'M2VEXK', 'CLKCM1', 'SFR837', '6VUBCH', '5DXVN0', 'N5SRBS', 'LSEMEB', 'ROPFYH', 'IWSCRT', 'BI2JEI', 'RZ29P3', '4BAWF7', 'Z8FDN8', '21NXAT', '5NH1HY', '9A4WOI', '597R9A', 'EI7HP5', '56HEYO', 'UTILS6', 'GCIJC7', 'MLL0M6', '06H3QX', 'MXOSB5', 'UX26DW', '7WZ5LU', 'AEAGL8', '70QWK1', '1SSFSL', 'FIO1DD', 'DVWK26', 'DK8WQO', 'B0F4VS', '1HMOEX', 'H530ST', '1T79VH', 'V9NDPZ', 'GAHO1A', 'F971JU', 'XSK6XG', 'ZS6YQ1', 'V6D0AY', 'QI9EKQ', 'DTN4RG', 'LDU00C', 'KO1ZJB', '58AXAJ', 'U0E1MF', 'SVA9RD', 'WZPRN8', 'GMKZJP', '05VWQU', 'LN764L', 'QGYHM6', 'WIDFHQ', '5LRFV8', 'IKLJRF', 'MERRC4', '6ELWER', 'ESM4OW', 'L6KATM', 'ZEL6K8', 'UEBF5Q']\n"
     ]
    }
   ],
   "source": [
    "# def test1(r=10):\n",
    "r = 200\n",
    "kl = []\n",
    "for i in range(r):\n",
    "    rs = getRandomString()\n",
    "    kl.append(rs)\n",
    "    set_key(rs,rs)\n",
    "#     print set_key(rs,rs)\n",
    "#     print get_key(rs)\n",
    "print kl"
   ]
  },
  {
   "cell_type": "code",
   "execution_count": null,
   "metadata": {
    "collapsed": false
   },
   "outputs": [],
   "source": [
    "stopServer(server_list.keys()[randint(0,len(server_list.keys()) - 1)])"
   ]
  },
  {
   "cell_type": "code",
   "execution_count": null,
   "metadata": {
    "collapsed": false
   },
   "outputs": [],
   "source": [
    "#get and write the status to some log\n",
    "def getStatus(address=None):\n",
    "    if address is None:\n",
    "        address=server_list.keys()[randint(0,len(server_list.keys()) - 1)]\n",
    "    try:\n",
    "        url = '/getKeyDist'\n",
    "        port = str((int)(address.split(':')[1])+20000)\n",
    "        req = 'http://'+address.split(':')[0]+':'+port\n",
    "        print req+url\n",
    "        response = urllib2.urlopen(req+url)\n",
    "        return str(response.read())\n",
    "    except Exception, e:\n",
    "        print e\n",
    "        return \"Error retieveing status\"\n",
    "\n",
    "def getAllStatus():\n",
    "    s = getStatus()[1:-1]\n",
    "    l = s.split(',')\n",
    "    for i in l: print i\n",
    "        \n",
    "#getAllStatus()"
   ]
  },
  {
   "cell_type": "code",
   "execution_count": 297,
   "metadata": {
    "collapsed": false
   },
   "outputs": [
    {
     "name": "stdout",
     "output_type": "stream",
     "text": [
      "http://127.0.0.1:58572/getKeyDist\n",
      "127.0.0.1:37979-11\n",
      "127.0.0.1:33700-31\n",
      "127.0.0.1:38572-25\n",
      "127.0.0.1:34005-33\n",
      "127.0.0.1:33825-32\n",
      "127.0.0.1:35877-9\n",
      "127.0.0.1:34687-9\n",
      "127.0.0.1:37790-19\n",
      "127.0.0.1:32276-20\n",
      "127.0.0.1:37380-11\n"
     ]
    }
   ],
   "source": [
    "getAllStatus()"
   ]
  },
  {
   "cell_type": "code",
   "execution_count": 299,
   "metadata": {
    "collapsed": false
   },
   "outputs": [
    {
     "name": "stdout",
     "output_type": "stream",
     "text": [
      "http://127.0.0.1:52276/getKeyDist\n",
      "127.0.0.1:37979-11\n",
      "127.0.0.1:33700-31\n",
      "127.0.0.1:38572-25\n",
      "127.0.0.1:33825-65\n",
      "127.0.0.1:35877-9\n",
      "127.0.0.1:34687-9\n",
      "127.0.0.1:37790-19\n",
      "127.0.0.1:32276-20\n",
      "127.0.0.1:37380-11\n"
     ]
    }
   ],
   "source": [
    "getAllStatus()"
   ]
  },
  {
   "cell_type": "code",
   "execution_count": 296,
   "metadata": {
    "collapsed": false
   },
   "outputs": [
    {
     "name": "stdout",
     "output_type": "stream",
     "text": [
      "Started server: 127.0.0.1:32276  proc 9253\n",
      "masterP_127.0.0.1:32276\n",
      "Starting DT_Server 127.0.0.1:52276\n"
     ]
    }
   ],
   "source": [
    "startServer()"
   ]
  },
  {
   "cell_type": "code",
   "execution_count": 298,
   "metadata": {
    "collapsed": false
   },
   "outputs": [
    {
     "name": "stdout",
     "output_type": "stream",
     "text": [
      "Killing DT server: 127.0.0.1:34005 PID:  8852\n"
     ]
    }
   ],
   "source": [
    "stopServer('127.0.0.1:34005')"
   ]
  },
  {
   "cell_type": "code",
   "execution_count": null,
   "metadata": {
    "collapsed": false
   },
   "outputs": [],
   "source": [
    "wrapUp2()"
   ]
  },
  {
   "cell_type": "code",
   "execution_count": null,
   "metadata": {
    "collapsed": false
   },
   "outputs": [],
   "source": [
    "wrapUp()"
   ]
  },
  {
   "cell_type": "code",
   "execution_count": null,
   "metadata": {
    "collapsed": true
   },
   "outputs": [],
   "source": [
    "\n",
    "    \n",
    "def getRandomString():\n",
    "    \n",
    "    \n",
    "# def startSentinel():\n",
    "\n",
    "    \n",
    "def killSentinel():\n",
    "    \n",
    "\n",
    "#start redis + DT server + notify sentinel\n",
    "#update server_list\n",
    "    \n",
    "\n",
    "def startServers(numServers):\n",
    "\n",
    "    \n",
    "\n",
    "#kill the redis server at addr\n",
    "#update server_list\n",
    "def killServer(addr):\n",
    "    \n",
    "\n",
    "#get and write the status to some log\n",
    "def getStatus():\n",
    "    \n",
    "#compute num migrations from two succesie status calls and write to file\n",
    "def getNumMigrations():"
   ]
  }
 ],
 "metadata": {
  "kernelspec": {
   "display_name": "Python 2",
   "language": "python",
   "name": "python2"
  },
  "language_info": {
   "codemirror_mode": {
    "name": "ipython",
    "version": 2
   },
   "file_extension": ".py",
   "mimetype": "text/x-python",
   "name": "python",
   "nbconvert_exporter": "python",
   "pygments_lexer": "ipython2",
   "version": "2.7.6"
  }
 },
 "nbformat": 4,
 "nbformat_minor": 0
}
