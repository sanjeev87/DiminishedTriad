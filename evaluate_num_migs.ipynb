{
 "cells": [
  {
   "cell_type": "code",
   "execution_count": 32,
   "metadata": {
    "collapsed": true
   },
   "outputs": [],
   "source": [
    "import random\n",
    "from random import randint\n",
    "import subprocess\n",
    "import os\n",
    "import signal\n",
    "from subprocess import call\n",
    "import time\n",
    "import string\n",
    "import redis"
   ]
  },
  {
   "cell_type": "code",
   "execution_count": 36,
   "metadata": {
    "collapsed": false
   },
   "outputs": [],
   "source": [
    "def getRandomString(size=6, chars=string.ascii_uppercase + string.digits):\n",
    "    return ''.join(random.choice(chars) for _ in range(size))\n",
    "\n",
    "def getRandomPortNum():\n",
    "    return randint(30000,40000)\n",
    "\n",
    "def getUniqueRandomPortNum():\n",
    "    p = randint(30000,40000)\n",
    "    while True:\n",
    "        unique = True\n",
    "        for s in server_list:\n",
    "            p2 = int(s.split(':')[1])\n",
    "            if p2 == p:\n",
    "                unique = False\n",
    "                break\n",
    "        if unique: return p\n",
    "        p = randint(30000,40000)\n",
    "    \n",
    "\n",
    "\n",
    "def startProc(args):\n",
    "    return subprocess.Popen(args)\n",
    "\n",
    "# p should be a process type\n",
    "def killProc(proc):\n",
    "    try:\n",
    "        os.killpg(proc.pid+1, signal.SIGTERM)\n",
    "#         call([\"kill\", \"-9\",str(proc.pid+1)]) #kill redis server pid+1 works for some reason\n",
    "#         call([\"kill\", \"-9\", str(proc.pid)])\n",
    "        return True\n",
    "    except:\n",
    "        print \"Failed to kill proc pid:\", proc.pid, \" maybe doesn't exist\"\n",
    "\n",
    "def stopServer(addr):\n",
    "    p = addr.split(':')[1]\n",
    "    s = \"redis-cli -p \" + str(p) + \" shutdown nosave\"\n",
    "    call(s.split())\n",
    "    stopMonitoring(addr)\n",
    "    \n",
    "\n",
    "def killAllServers():\n",
    "    for s in server_list:\n",
    "        print \"Killing server:\",s,\" pid:\", server_list[s].pid\n",
    "        #killProc(server_list[s])\n",
    "        stopServer(s)\n",
    "\n",
    "def startServer(ip = \"127.0.0.1\", port=getRandomPortNum()):\n",
    "    s = (\"redis-server --port \" + str(port) + \" --appendonly yes --appendfilename appendonly-\" + str(port) + \".aof\"\n",
    "    \" --dbfilename dump-\" + str(port) + \".rdb --logfile \" + str(port) + \".log --daemonize yes --loglevel verbose\")\n",
    "#     print s\n",
    "#     print s.split()\n",
    "    p = startProc(s.split())\n",
    "    sp = ip + \":\" + str(port)\n",
    "    print \"Started server:\",sp, \" proc\", p.pid\n",
    "    server_list[sp] = p\n",
    "    startMonitoring(sp)\n",
    "\n",
    "def startServers(numServers):\n",
    "    for i in range(numServers):\n",
    "        startServer(port=getUniqueRandomPortNum())\n",
    "\n",
    "        \n",
    "def startMonitoring(addr):\n",
    "    REDIS_SENTINEL.sentinel_monitor(\"masterP_\" + addr, addr.split(':')[0], addr.split(':')[1], 2)\n",
    "def stopMonitoring(addr):\n",
    "    REDIS_SENTINEL.sentinel_remove(\"masterP_\" + addr)\n",
    "\n",
    "def cleanUp():\n",
    "    call([\"rm\", \"-rf\", \"*.log\"])\n",
    "    call([\"rm\", \"-rf\", \"appendonly*.aof\"])\n",
    "    call([\"rm\", \"-rf\", \"dump*.rdb\"])\n",
    "    call([\"rm\", \"-rf\", \"nodes*.conf\"])\n",
    "    call([\"rm\", \"-rf\", \"*.conf\"])"
   ]
  },
  {
   "cell_type": "code",
   "execution_count": null,
   "metadata": {
    "collapsed": true
   },
   "outputs": [],
   "source": [
    "server_list = {}\n",
    "REDIS_SENTINEL = redis.StrictRedis(host='localhost', port=40001)\n",
    "cleanUp()\n",
    "startServers(5)"
   ]
  },
  {
   "cell_type": "code",
   "execution_count": null,
   "metadata": {
    "collapsed": false
   },
   "outputs": [],
   "source": [
    "cleanUp()"
   ]
  },
  {
   "cell_type": "code",
   "execution_count": null,
   "metadata": {
    "collapsed": false
   },
   "outputs": [],
   "source": [
    "killAllServers()"
   ]
  },
  {
   "cell_type": "code",
   "execution_count": null,
   "metadata": {
    "collapsed": true
   },
   "outputs": [],
   "source": [
    "\n",
    "    \n",
    "def getRandomString():\n",
    "    \n",
    "    \n",
    "# def startSentinel():\n",
    "\n",
    "    \n",
    "def killSentinel():\n",
    "    \n",
    "\n",
    "#start redis + DT server + notify sentinel\n",
    "#update server_list\n",
    "    \n",
    "\n",
    "def startServers(numServers):\n",
    "\n",
    "    \n",
    "\n",
    "#kill the redis server at addr\n",
    "#update server_list\n",
    "def killServer(addr):\n",
    "    \n",
    "\n",
    "#get and write the status to some log\n",
    "def getStatus():\n",
    "    \n",
    "#compute num migrations from two succesie status calls and write to file\n",
    "def getNumMigrations():"
   ]
  }
 ],
 "metadata": {
  "kernelspec": {
   "display_name": "Python 2",
   "language": "python",
   "name": "python2"
  },
  "language_info": {
   "codemirror_mode": {
    "name": "ipython",
    "version": 2
   },
   "file_extension": ".py",
   "mimetype": "text/x-python",
   "name": "python",
   "nbconvert_exporter": "python",
   "pygments_lexer": "ipython2",
   "version": "2.7.6"
  }
 },
 "nbformat": 4,
 "nbformat_minor": 0
}
