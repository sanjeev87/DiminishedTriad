{
 "cells": [
  {
   "cell_type": "code",
   "execution_count": null,
   "metadata": {
    "collapsed": false
   },
   "outputs": [],
   "source": [
    "import logging\n",
    "logging.basicConfig(level=logging.DEBUG)\n",
    "from spyne.application import Application\n",
    "from spyne.decorator import srpc\n",
    "from spyne.service import ServiceBase\n",
    "from spyne.model.primitive import Integer\n",
    "from spyne.model.primitive import Unicode\n",
    "from spyne.model.complex import Iterable\n",
    "from spyne.protocol.http import HttpRpc\n",
    "from spyne.protocol.json import JsonDocument\n",
    "from spyne.server.wsgi import WsgiApplication\n",
    "import redis\n",
    "\n",
    "class HelloWorldService(ServiceBase):\n",
    "    @srpc(Unicode, Integer, _returns=Iterable(Unicode))\n",
    "    def say_hello(name, times):\n",
    "        for i in range(times):\n",
    "            yield 'Hello, %s' % name\n",
    "    \n",
    "    @srpc(Integer, Integer, _returns=Integer)\n",
    "    def add(int1, int2):\n",
    "        return int1+int2\n",
    "    \n",
    "    @srpc(Unicode, _returns=Unicode)\n",
    "    def get(key):\n",
    "        r = redis.StrictRedis(host='localhost', port=6379, db=0)\n",
    "        return r.get(key)\n",
    "\n",
    "application = Application([HelloWorldService],\n",
    "    tns='spyne.examples.hello',\n",
    "    in_protocol=HttpRpc(validator='soft'),\n",
    "    out_protocol=JsonDocument()\n",
    ")\n",
    "\n",
    "if __name__ == '__main__':\n",
    "    # You can use any Wsgi server. Here, we chose\n",
    "    # Python's built-in wsgi server but you're not\n",
    "    # supposed to use it in production.\n",
    "    from wsgiref.simple_server import make_server\n",
    "\n",
    "    wsgi_app = WsgiApplication(application)\n",
    "    server = make_server('0.0.0.0', 8000, wsgi_app)\n",
    "    server.serve_forever()"
   ]
  },
  {
   "cell_type": "code",
   "execution_count": null,
   "metadata": {
    "collapsed": true
   },
   "outputs": [],
   "source": []
  }
 ],
 "metadata": {
  "kernelspec": {
   "display_name": "Python 2",
   "language": "python",
   "name": "python2"
  },
  "language_info": {
   "codemirror_mode": {
    "name": "ipython",
    "version": 2
   },
   "file_extension": ".py",
   "mimetype": "text/x-python",
   "name": "python",
   "nbconvert_exporter": "python",
   "pygments_lexer": "ipython2",
   "version": "2.7.9"
  }
 },
 "nbformat": 4,
 "nbformat_minor": 0
}
